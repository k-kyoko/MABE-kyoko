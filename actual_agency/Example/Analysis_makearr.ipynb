{
 "cells": [
  {
   "cell_type": "markdown",
   "metadata": {},
   "source": [
    "# 一回でいい"
   ]
  },
  {
   "cell_type": "code",
   "execution_count": 90,
   "metadata": {},
   "outputs": [
    {
     "name": "stdout",
     "output_type": "stream",
     "text": [
      "The autoreload extension is already loaded. To reload it, use:\n",
      "  %reload_ext autoreload\n"
     ]
    }
   ],
   "source": [
    "# import\n",
    "import matplotlib.pyplot as plt\n",
    "import matplotlib.colors as colors\n",
    "import numpy as np\n",
    "import random\n",
    "from ipywidgets import interact, interact_manual\n",
    "import ipywidgets as widgets\n",
    "from IPython import display\n",
    "import time\n",
    "from pathlib import Path\n",
    "import pandas as pd\n",
    "import os\n",
    "import copy\n",
    "import networkx as nx\n",
    "import pickle\n",
    "import sys\n",
    "from collections import Counter\n",
    "from scipy import stats\n",
    "%matplotlib inline\n",
    "\n",
    "# change directory\n",
    "\n",
    "os.chdir(\"/home/kyoko/Develop/ActualCausation/MABE/MABE_contents/actual_agency\")\n",
    "\n",
    "# import packages -- pyphi\n",
    "\n",
    "from pyanimats import *\n",
    "from pyTPM import *\n",
    "import actual_agency as agency\n",
    "import pyphi\n",
    "from pyphi import actual, config, Direction\n",
    "\n",
    "pyphi.config.VALIDATE_SUBSYSTEM_STATES = False\n",
    "pyphi.config.PARTITION_TYPE = 'TRI'\n",
    "\n",
    "# Change directory back to Example directory, now in MABE_contents\n",
    "os.chdir(\"../Experiments/analysis_now\")\n",
    "\n",
    "%load_ext autoreload\n",
    "%autoreload 2\n",
    "%aimport pyTPM, pyanimats, actual_agency\n",
    "\n",
    "# make an array\n",
    "datas = np.zeros(3000).reshape(250, 12)\n",
    "\n",
    "prearr = np.sort(np.tile(np.arange(1,11), (1,5))).reshape(50, 1) \n",
    "runarr = np.tile(prearr.copy(), (5,1)) #Runs\n",
    "hidarr = np.sort(np.tile(np.arange(2,7), (1,50))).reshape(250, 1) #Hidden nodes\n",
    "stsarr = np.tile(np.arange(1,6), (1,50)).reshape(250, 1)\n",
    "\n",
    "datas[:,0:1] = hidarr\n",
    "datas[:,1:2] = runarr\n",
    "datas[:,2:3] = stsarr\n",
    "\n",
    "# defining some parameters to use \n",
    "generations = 30000\n",
    "n_agents = int(generations/500.+1)\n",
    "n_runs = 10\n",
    "n_trials = 64\n",
    "n_data = 5\n",
    "\n",
    "agent = 60 # saved generation\n",
    "trial = 60 # 0~63\n",
    "run = 1 # 0 ~ n_runs-1 change only this\n",
    "\n",
    "\n",
    "# Get Line-of-descent (LOD) data from MABE output\n",
    "    \n",
    "LOD_data = ['190822_7156331_h2_LOD_data.pkl','190822_7156331_h3_LOD_data.pkl','190822_7156331_h4_LOD_data.pkl','190822_7156331_h5_LOD_data.pkl','190822_7156331_h6_LOD_data.pkl']\n",
    "LODs = []    \n",
    "for i in range(len(LOD_data)):\n",
    "    with open(LOD_data[i],'rb') as f:\n",
    "        LODs.append(pickle.load(f))\n",
    "\n",
    "# Get genome data\n",
    "all_genomes = ['190822_7156331_h2_genome.pkl','190822_7156331_h3_genome.pkl','190822_7156331_h4_genome.pkl','190822_7156331_h5_genome.pkl','190822_7156331_h6_genome.pkl']\n",
    "genomes = []\n",
    "for i in range(len(all_genomes)):\n",
    "    with open(all_genomes[i],'rb') as f:\n",
    "        genomes.append(pickle.load(f))\n",
    "\n",
    "\n",
    "# Get activity data\n",
    "all_activity = ['190822_7156331_h2_activity.pkl','190822_7156331_h3_activity.pkl','190822_7156331_h4_activity.pkl','190822_7156331_h5_activity.pkl','190822_7156331_h6_activity.pkl']\n",
    "activities = []\n",
    "for i in range(len(all_activity)):\n",
    "    with open(all_activity[i],'rb') as f:\n",
    "        activities.append(pickle.load(f))\n",
    "\n",
    "\n",
    "# Define functions to find states\n",
    "# find the most frequent state\n",
    "\n",
    "\n",
    "def counting3(data):\n",
    "    c = Counter(data)\n",
    "    freq_scores = c.most_common()\n",
    "    if len(freq_scores) < 3:\n",
    "        return(freq_scores)\n",
    "    else:\n",
    "        third_count = freq_scores[2][1]\n",
    "    \n",
    "        modes = [freq_scores[0][:], freq_scores[1][:]]\n",
    "        for p in range(2,len(freq_scores)): #出現回数を比較、追加\n",
    "            if freq_scores[p][1] == third_count and p < 5:\n",
    "                modes.append(freq_scores[p])\n",
    "        return(modes)\n",
    "\n",
    "# change num(10) to bin(2)\n",
    "def int2binary(n,node_n):\n",
    "    holi = [int(x) for x in bin(n)[2:].zfill(node_n)]\n",
    "    holi.reverse()\n",
    "    return holi"
   ]
  },
  {
   "cell_type": "code",
   "execution_count": 98,
   "metadata": {
    "collapsed": true
   },
   "outputs": [
    {
     "name": "stdout",
     "output_type": "stream",
     "text": [
      "Creating activity matrix from MABE output...\n",
      "Creating activity matrix from MABE output...\n",
      "Creating activity matrix from MABE output...\n",
      "Creating activity matrix from MABE output...\n",
      "Creating activity matrix from MABE output...\n",
      "Creating activity matrix from MABE output...\n",
      "Creating activity matrix from MABE output...\n",
      "Creating activity matrix from MABE output...\n",
      "Creating activity matrix from MABE output...\n",
      "Creating activity matrix from MABE output...\n",
      "Creating activity matrix from MABE output...\n",
      "Creating activity matrix from MABE output...\n",
      "Creating activity matrix from MABE output...\n",
      "Creating activity matrix from MABE output...\n",
      "Creating activity matrix from MABE output...\n",
      "Creating activity matrix from MABE output...\n",
      "Creating activity matrix from MABE output...\n",
      "Creating activity matrix from MABE output...\n",
      "Creating activity matrix from MABE output...\n",
      "Creating activity matrix from MABE output...\n",
      "Creating activity matrix from MABE output...\n",
      "Creating activity matrix from MABE output...\n",
      "Creating activity matrix from MABE output...\n",
      "Creating activity matrix from MABE output...\n",
      "Creating activity matrix from MABE output...\n",
      "Creating activity matrix from MABE output...\n",
      "Creating activity matrix from MABE output...\n",
      "Creating activity matrix from MABE output...\n",
      "Creating activity matrix from MABE output...\n",
      "Creating activity matrix from MABE output...\n",
      "Creating activity matrix from MABE output...\n",
      "Creating activity matrix from MABE output...\n",
      "Creating activity matrix from MABE output...\n",
      "Creating activity matrix from MABE output...\n",
      "Creating activity matrix from MABE output...\n",
      "Creating activity matrix from MABE output...\n",
      "Creating activity matrix from MABE output...\n",
      "Creating activity matrix from MABE output...\n",
      "Creating activity matrix from MABE output...\n",
      "Creating activity matrix from MABE output...\n",
      "Creating activity matrix from MABE output...\n",
      "Creating activity matrix from MABE output...\n",
      "Creating activity matrix from MABE output...\n",
      "Creating activity matrix from MABE output...\n",
      "Creating activity matrix from MABE output...\n",
      "Creating activity matrix from MABE output...\n",
      "Creating activity matrix from MABE output...\n",
      "Creating activity matrix from MABE output...\n",
      "Creating activity matrix from MABE output...\n",
      "Creating activity matrix from MABE output...\n"
     ]
    }
   ],
   "source": [
    "# brain acivity, genome, TPM, TPM_gates, cm\n",
    "genome = []\n",
    "TPM, TPM_gates, cm = [],[],[]\n",
    "n_connection = np.zeros(n_data*n_runs)\n",
    "brain_activity = []\n",
    "\n",
    "for data in range(n_data):\n",
    "    n_hnodes = data+2\n",
    "    for n in range(n_runs):\n",
    "        place = 5*data + n\n",
    "        \n",
    "        # culculate brain activity\n",
    "        brain_activity.append(agency.getBrainActivity(activities[data][n],n_agents=n_agents, n_nodes=n_hnodes+4, n_hidden=n_hnodes))\n",
    "        #actarr = brain_activity[place][agent][trial]\n",
    "\n",
    "        # genome, TPM, TPM_gate, cm\n",
    "       \n",
    "        genome.append(agency.get_genome(genomes[data], n, agent))\n",
    "#print(len(genome[4]))\n",
    "\n",
    "        a, b, c = genome2TPM(genome[place], n_nodes=n_hnodes+4, n_sensors=2, n_motors=2, gate_type='deterministic',states_convention='loli',remove_sensor_motor_effects=True)\n",
    "        TPM.append(a)\n",
    "        TPM_gates.append(b)\n",
    "        cm.append(c) # right?\n",
    "        \n"
   ]
  },
  {
   "cell_type": "code",
   "execution_count": 96,
   "metadata": {
    "scrolled": true
   },
   "outputs": [
    {
     "data": {
      "text/plain": [
       "[[(36, 11), (16, 8), (4, 8)],\n",
       " [(20, 24), (56, 4), (0, 1), (52, 1), (57, 1)],\n",
       " [(36, 25), (8, 4), (0, 1), (9, 1), (15, 1)],\n",
       " [(0, 6), (16, 6), (48, 5), (40, 5)],\n",
       " [(32, 17), (0, 3), (36, 3)],\n",
       " [(40, 15), (56, 3), (14, 3), (41, 3)],\n",
       " [(52, 14), (12, 13), (0, 1), (13, 1), (37, 1)],\n",
       " [(5, 27), (24, 3), (12, 2)],\n",
       " [(0, 15), (20, 14), (1, 1), (29, 1), (19, 1)],\n",
       " [(0, 14), (52, 14), (1, 1), (29, 1), (31, 1)],\n",
       " [(112, 10), (0, 3), (56, 3), (24, 3)],\n",
       " [(0, 9), (24, 8), (18, 3), (70, 3)],\n",
       " [(84, 9), (44, 8), (68, 6)],\n",
       " [(60, 7), (12, 6), (120, 3), (72, 3), (121, 3)],\n",
       " [(32, 14), (52, 13), (60, 2)],\n",
       " [(53, 22), (100, 3), (48, 2), (112, 2), (40, 2)],\n",
       " [(48, 14), (49, 3), (97, 3), (107, 3), (72, 3)],\n",
       " [(44, 14), (4, 14), (0, 1), (45, 1), (17, 1)],\n",
       " [(84, 21), (108, 7), (0, 1), (96, 1), (109, 1)],\n",
       " [(32, 15), (8, 4), (40, 3)],\n",
       " [(184, 9), (92, 9), (93, 3), (235, 3), (191, 3)],\n",
       " [(216, 13), (92, 8), (217, 2), (125, 2), (111, 2)],\n",
       " [(212, 9), (76, 8), (92, 3), (196, 3)],\n",
       " [(32, 9), (8, 8), (2, 5)],\n",
       " [(144, 20), (146, 4), (145, 2), (129, 2), (163, 2)],\n",
       " [(172, 13), (228, 13), (236, 2)],\n",
       " [(236, 10), (220, 3), (8, 2), (79, 2), (204, 2)],\n",
       " [(212, 21), (96, 7), (0, 1), (108, 1), (97, 1)],\n",
       " [(44, 6), (80, 5), (96, 5)],\n",
       " [(4, 34), (0, 1)],\n",
       " [(16, 8), (272, 4), (388, 3)],\n",
       " [(192, 7), (456, 6), (462, 4), (198, 4)],\n",
       " [(376, 12), (371, 6), (370, 6)],\n",
       " [(24, 5), (8, 4), (168, 4), (68, 4)],\n",
       " [(36, 34), (0, 1)],\n",
       " [(404, 20), (220, 4), (144, 3)],\n",
       " [(100, 32), (0, 1), (420, 1), (36, 1)],\n",
       " [(0, 9), (328, 7), (288, 5), (228, 5)],\n",
       " [(21, 27), (28, 2), (72, 2)],\n",
       " [(12, 8), (296, 4), (280, 4)],\n",
       " [(516, 34), (0, 1)],\n",
       " [(164, 9), (416, 8), (484, 7)],\n",
       " [(608, 6), (628, 6), (540, 5), (520, 5)],\n",
       " [(708, 24), (136, 4), (0, 1), (137, 1), (527, 1)],\n",
       " [(560, 19), (561, 4), (563, 2), (547, 2), (610, 2)],\n",
       " [(556, 6), (564, 6), (812, 6)],\n",
       " [(156, 7), (664, 6), (728, 3)],\n",
       " [(80, 3), (372, 3), (244, 3), (116, 3), (16, 3)],\n",
       " [(256, 6), (272, 6), (464, 6)],\n",
       " [(244, 8), (112, 7), (372, 6)]]"
      ]
     },
     "execution_count": 96,
     "metadata": {},
     "output_type": "execute_result"
    }
   ],
   "source": [
    "dec = []\n",
    "label = [['S1','S2','M1','M2','H1','H2'],['S1','S2','M1','M2','H1','H2','H3'],['S1','S2','M1','M2','H1','H2','H3','H4'],['S1','S2','M1','M2','H1','H2','H3','H4','H5'],['S1','S2','M1','M2','H1','H2','H3','H4','H5','H6']]\n",
    "state = []\n",
    "network = []\n",
    "prestate = []\n",
    "\n",
    "\n",
    "for data in range(n_data):\n",
    "    n_hnodes = data+2\n",
    "    for n in range(n_runs):\n",
    "        dec = []\n",
    "        place = 10*data + n\n",
    "        actarr = brain_activity[place][agent][trial]\n",
    "        for j in range(len(brain_activity[place][0][0])): # 2進法 -> 10進法変換 行35,列node数の行列 \n",
    "            num = 0\n",
    "            for k in range(len(brain_activity[place][0][0][0])): # = hnode + 4\n",
    "                num = num + (2 ** k) * actarr[j][k] \n",
    "                num = int(num) # 2進法への変換のためfloat -> int型\n",
    "            dec.append(num)\n",
    "\n",
    "#         c = Counter(dec)\n",
    "        prestate.append(counting3(dec))\n",
    "prestate # right?"
   ]
  },
  {
   "cell_type": "code",
   "execution_count": 95,
   "metadata": {},
   "outputs": [
    {
     "data": {
      "text/plain": [
       "50"
      ]
     },
     "execution_count": 95,
     "metadata": {},
     "output_type": "execute_result"
    }
   ],
   "source": [
    "len(prestate)\n"
   ]
  },
  {
   "cell_type": "code",
   "execution_count": 72,
   "metadata": {},
   "outputs": [
    {
     "ename": "TypeError",
     "evalue": "'tuple' object cannot be interpreted as an integer",
     "output_type": "error",
     "traceback": [
      "\u001b[0;31m---------------------------------------------------------------\u001b[0m",
      "\u001b[0;31mTypeError\u001b[0m                     Traceback (most recent call last)",
      "\u001b[0;32m<ipython-input-72-fdeedfd91d46>\u001b[0m in \u001b[0;36m<module>\u001b[0;34m\u001b[0m\n\u001b[1;32m     27\u001b[0m \u001b[0;34m\u001b[0m\u001b[0m\n\u001b[1;32m     28\u001b[0m         \u001b[0;32mfor\u001b[0m \u001b[0mi\u001b[0m \u001b[0;32min\u001b[0m \u001b[0mrange\u001b[0m\u001b[0;34m(\u001b[0m\u001b[0mlen\u001b[0m\u001b[0;34m(\u001b[0m\u001b[0mprestate\u001b[0m\u001b[0;34m)\u001b[0m\u001b[0;34m)\u001b[0m\u001b[0;34m:\u001b[0m\u001b[0;34m\u001b[0m\u001b[0;34m\u001b[0m\u001b[0m\n\u001b[0;32m---> 29\u001b[0;31m             \u001b[0mstate\u001b[0m\u001b[0;34m.\u001b[0m\u001b[0mappend\u001b[0m\u001b[0;34m(\u001b[0m\u001b[0mint2binary\u001b[0m\u001b[0;34m(\u001b[0m\u001b[0mprestate\u001b[0m\u001b[0;34m[\u001b[0m\u001b[0mi\u001b[0m\u001b[0;34m]\u001b[0m\u001b[0;34m[\u001b[0m\u001b[0;36m0\u001b[0m\u001b[0;34m]\u001b[0m\u001b[0;34m,\u001b[0m\u001b[0mn_hnodes\u001b[0m\u001b[0;34m+\u001b[0m\u001b[0;36m4\u001b[0m\u001b[0;34m)\u001b[0m\u001b[0;34m)\u001b[0m\u001b[0;34m\u001b[0m\u001b[0;34m\u001b[0m\u001b[0m\n\u001b[0m\u001b[1;32m     30\u001b[0m \u001b[0;34m\u001b[0m\u001b[0m\n\u001b[1;32m     31\u001b[0m         \u001b[0;31m# network\u001b[0m\u001b[0;34m\u001b[0m\u001b[0;34m\u001b[0m\u001b[0;34m\u001b[0m\u001b[0m\n",
      "\u001b[0;32m<ipython-input-71-a883ae831769>\u001b[0m in \u001b[0;36mint2binary\u001b[0;34m(n, nodes)\u001b[0m\n\u001b[1;32m    109\u001b[0m \u001b[0;31m# change num(10) to bin(2)\u001b[0m\u001b[0;34m\u001b[0m\u001b[0;34m\u001b[0m\u001b[0;34m\u001b[0m\u001b[0m\n\u001b[1;32m    110\u001b[0m \u001b[0;32mdef\u001b[0m \u001b[0mint2binary\u001b[0m\u001b[0;34m(\u001b[0m\u001b[0mn\u001b[0m\u001b[0;34m,\u001b[0m\u001b[0mnodes\u001b[0m\u001b[0;34m)\u001b[0m\u001b[0;34m:\u001b[0m\u001b[0;34m\u001b[0m\u001b[0;34m\u001b[0m\u001b[0m\n\u001b[0;32m--> 111\u001b[0;31m     \u001b[0mholi\u001b[0m \u001b[0;34m=\u001b[0m \u001b[0;34m[\u001b[0m\u001b[0mint\u001b[0m\u001b[0;34m(\u001b[0m\u001b[0mx\u001b[0m\u001b[0;34m)\u001b[0m \u001b[0;32mfor\u001b[0m \u001b[0mx\u001b[0m \u001b[0;32min\u001b[0m \u001b[0mbin\u001b[0m\u001b[0;34m(\u001b[0m\u001b[0mn\u001b[0m\u001b[0;34m)\u001b[0m\u001b[0;34m[\u001b[0m\u001b[0;36m2\u001b[0m\u001b[0;34m:\u001b[0m\u001b[0;34m]\u001b[0m\u001b[0;34m.\u001b[0m\u001b[0mzfill\u001b[0m\u001b[0;34m(\u001b[0m\u001b[0mnodes\u001b[0m\u001b[0;34m)\u001b[0m\u001b[0;34m]\u001b[0m\u001b[0;34m\u001b[0m\u001b[0;34m\u001b[0m\u001b[0m\n\u001b[0m\u001b[1;32m    112\u001b[0m     \u001b[0mholi\u001b[0m\u001b[0;34m.\u001b[0m\u001b[0mreverse\u001b[0m\u001b[0;34m(\u001b[0m\u001b[0;34m)\u001b[0m\u001b[0;34m\u001b[0m\u001b[0;34m\u001b[0m\u001b[0m\n\u001b[1;32m    113\u001b[0m     \u001b[0;32mreturn\u001b[0m \u001b[0mholi\u001b[0m\u001b[0;34m\u001b[0m\u001b[0;34m\u001b[0m\u001b[0m\n",
      "\u001b[0;31mTypeError\u001b[0m: 'tuple' object cannot be interpreted as an integer"
     ]
    }
   ],
   "source": [
    "# fitness, connection, state, network\n",
    "#dec = []\n",
    "label = [['S1','S2','M1','M2','H1','H2'],['S1','S2','M1','M2','H1','H2','H3'],['S1','S2','M1','M2','H1','H2','H3','H4'],['S1','S2','M1','M2','H1','H2','H3','H4','H5'],['S1','S2','M1','M2','H1','H2','H3','H4','H5','H6']]\n",
    "#state = []\n",
    "network = []\n",
    "\n",
    "for data in range(n_data):\n",
    "    n_hnodes = data+2\n",
    "    for n in range(n_runs):\n",
    "        place = 5*data + n\n",
    "        \n",
    "        #fitness\n",
    "    \n",
    "        LODs[data][n]['fitness'] = (LODs[data][n]['correct_AVE']\n",
    "                               /(LODs[data][n]['correct_AVE']+LODs[data][n]['incorrect_AVE']))\n",
    "        #print(LODs[data][n]['fitness'][60])\n",
    "        \n",
    "        # culculate num of connection\n",
    "        \n",
    "        # for i in range(n_data*n_runs):\n",
    "        #     n_connection[i] = np.count_nonzero(cm[i])\n",
    "                \n",
    "        #state\n",
    "        \n",
    "        \n",
    "        \n",
    "        \n",
    "        for i in range(len(prestate)):\n",
    "            state.append(int2binary(prestate[i][0],n_hnodes+4))\n",
    "\n",
    "        # network\n",
    "        network.append(pyphi.network.Network(np.array(TPM[place]), cm=np.array(cm[place]), \n",
    "                    purview_cache=None)) #node_labels=tuple(label[data]), \n",
    "       "
   ]
  },
  {
   "cell_type": "code",
   "execution_count": 101,
   "metadata": {
    "scrolled": true
   },
   "outputs": [
    {
     "data": {
      "text/plain": [
       "array(4)"
      ]
     },
     "execution_count": 101,
     "metadata": {},
     "output_type": "execute_result"
    }
   ],
   "source": [
    "# ba = np.array(brain_activity)\n",
    "# ba_shape, ba.type\n",
    "dana = np.array(data)\n",
    "dana"
   ]
  },
  {
   "cell_type": "code",
   "execution_count": 75,
   "metadata": {},
   "outputs": [],
   "source": [
    "# subsystem, phi\n",
    "Phi = []\n",
    "hnodes = [(4,5),(4,5,6),(4,5,6,7),(4,5,6,7,8),(4,5,6,7,8,9)]\n",
    "for data in range(n_data):\n",
    "    n_hnodes = data+2\n",
    "    for n in range(n_runs):\n",
    "        place = 5*data + n\n",
    "        for i in range(len(state)):\n",
    "            subsystem = pyphi.Subsystem(network[place], state[i], nodes=hnodes[data])\n",
    "            Phi = pyphi.compute.phi(subsystem)\n",
    "            print(\"Data %d, Run %d, state %d's phi is %d\"%(data, n, i, Phi))\n",
    "            "
   ]
  },
  {
   "cell_type": "code",
   "execution_count": null,
   "metadata": {},
   "outputs": [],
   "source": [
    "n_connection = np.zeros(n_data*n_runs)\n",
    "for i in range(50):\n",
    "    n_connection[i] = np.count_nonzero(cm[i])\n",
    "n_connection"
   ]
  },
  {
   "cell_type": "code",
   "execution_count": 81,
   "metadata": {},
   "outputs": [
    {
     "name": "stdout",
     "output_type": "stream",
     "text": [
      "[0 1 4 9]\n"
     ]
    }
   ],
   "source": [
    "honya = [0, 1, 2, 3] \n",
    "\n",
    "# frompyfunc \n",
    "def _body(x): \n",
    "    return x**2 \n",
    "body = np.frompyfunc(_body, 1, 1) \n",
    "\n",
    "result = body(honya)\n",
    "print(result)"
   ]
  },
  {
   "cell_type": "code",
   "execution_count": null,
   "metadata": {},
   "outputs": [],
   "source": [
    "# 各計算結果をdatasに格納\n",
    "# state(3列目)\n",
    "for i in range(len(state)):\n",
    "    if i < 5:\n",
    "        datas[(n-1)*5 + i][3] = prestate[i][0]\n",
    "\n",
    "\n",
    "for i in range()\n",
    "np.set_printoptions(threshold = 10000)\n",
    "datas"
   ]
  },
  {
   "cell_type": "code",
   "execution_count": 105,
   "metadata": {},
   "outputs": [],
   "source": [
    "def counting3(data): \n",
    "    assert type(data) is np.ndarray, \"Argument 'data' must be numpy.ndarray @counting3(data)\" \n",
    "    u,c = np.unique(data, return_counts=True) \n",
    "    s = np.argsort(c)[::-1] \n",
    "    sc = c[s] \n",
    "    su = u[s] \n",
    "    l = (sc>=sc[2]).sum() \n",
    "\n",
    "    return su[0:l if l<6 else 5] "
   ]
  },
  {
   "cell_type": "code",
   "execution_count": 107,
   "metadata": {
    "scrolled": true
   },
   "outputs": [
    {
     "ename": "AssertionError",
     "evalue": "Argument 'data' must be numpy.ndarray @counting3(data)",
     "output_type": "error",
     "traceback": [
      "\u001b[0;31m---------------------------------------------------------------\u001b[0m",
      "\u001b[0;31mAssertionError\u001b[0m                Traceback (most recent call last)",
      "\u001b[0;32m<ipython-input-107-001efd155be1>\u001b[0m in \u001b[0;36m<module>\u001b[0;34m\u001b[0m\n\u001b[1;32m     21\u001b[0m \u001b[0;34m\u001b[0m\u001b[0m\n\u001b[1;32m     22\u001b[0m         \u001b[0mc\u001b[0m \u001b[0;34m=\u001b[0m \u001b[0mCounter\u001b[0m\u001b[0;34m(\u001b[0m\u001b[0mdec\u001b[0m\u001b[0;34m)\u001b[0m\u001b[0;34m\u001b[0m\u001b[0;34m\u001b[0m\u001b[0m\n\u001b[0;32m---> 23\u001b[0;31m         \u001b[0mprestate\u001b[0m\u001b[0;34m.\u001b[0m\u001b[0mappend\u001b[0m\u001b[0;34m(\u001b[0m\u001b[0mcounting3\u001b[0m\u001b[0;34m(\u001b[0m\u001b[0mdec\u001b[0m\u001b[0;34m)\u001b[0m\u001b[0;34m)\u001b[0m\u001b[0;34m\u001b[0m\u001b[0;34m\u001b[0m\u001b[0m\n\u001b[0m\u001b[1;32m     24\u001b[0m \u001b[0mprestate\u001b[0m \u001b[0;31m# right?\u001b[0m\u001b[0;34m\u001b[0m\u001b[0;34m\u001b[0m\u001b[0m\n",
      "\u001b[0;32m<ipython-input-105-2c53324c44c5>\u001b[0m in \u001b[0;36mcounting3\u001b[0;34m(data)\u001b[0m\n\u001b[1;32m      1\u001b[0m \u001b[0;32mdef\u001b[0m \u001b[0mcounting3\u001b[0m\u001b[0;34m(\u001b[0m\u001b[0mdata\u001b[0m\u001b[0;34m)\u001b[0m\u001b[0;34m:\u001b[0m\u001b[0;34m\u001b[0m\u001b[0;34m\u001b[0m\u001b[0m\n\u001b[0;32m----> 2\u001b[0;31m     \u001b[0;32massert\u001b[0m \u001b[0mtype\u001b[0m\u001b[0;34m(\u001b[0m\u001b[0mdata\u001b[0m\u001b[0;34m)\u001b[0m \u001b[0;32mis\u001b[0m \u001b[0mnp\u001b[0m\u001b[0;34m.\u001b[0m\u001b[0mndarray\u001b[0m\u001b[0;34m,\u001b[0m \u001b[0;34m\"Argument 'data' must be numpy.ndarray @counting3(data)\"\u001b[0m\u001b[0;34m\u001b[0m\u001b[0;34m\u001b[0m\u001b[0m\n\u001b[0m\u001b[1;32m      3\u001b[0m     \u001b[0mu\u001b[0m\u001b[0;34m,\u001b[0m\u001b[0mc\u001b[0m \u001b[0;34m=\u001b[0m \u001b[0mnp\u001b[0m\u001b[0;34m.\u001b[0m\u001b[0munique\u001b[0m\u001b[0;34m(\u001b[0m\u001b[0mdata\u001b[0m\u001b[0;34m,\u001b[0m \u001b[0mreturn_counts\u001b[0m\u001b[0;34m=\u001b[0m\u001b[0;32mTrue\u001b[0m\u001b[0;34m)\u001b[0m\u001b[0;34m\u001b[0m\u001b[0;34m\u001b[0m\u001b[0m\n\u001b[1;32m      4\u001b[0m     \u001b[0ms\u001b[0m \u001b[0;34m=\u001b[0m \u001b[0mnp\u001b[0m\u001b[0;34m.\u001b[0m\u001b[0margsort\u001b[0m\u001b[0;34m(\u001b[0m\u001b[0mc\u001b[0m\u001b[0;34m)\u001b[0m\u001b[0;34m[\u001b[0m\u001b[0;34m:\u001b[0m\u001b[0;34m:\u001b[0m\u001b[0;34m-\u001b[0m\u001b[0;36m1\u001b[0m\u001b[0;34m]\u001b[0m\u001b[0;34m\u001b[0m\u001b[0;34m\u001b[0m\u001b[0m\n\u001b[1;32m      5\u001b[0m     \u001b[0msc\u001b[0m \u001b[0;34m=\u001b[0m \u001b[0mc\u001b[0m\u001b[0;34m[\u001b[0m\u001b[0ms\u001b[0m\u001b[0;34m]\u001b[0m\u001b[0;34m\u001b[0m\u001b[0;34m\u001b[0m\u001b[0m\n",
      "\u001b[0;31mAssertionError\u001b[0m: Argument 'data' must be numpy.ndarray @counting3(data)"
     ]
    }
   ],
   "source": [
    "dec = []\n",
    "label = [['S1','S2','M1','M2','H1','H2'],['S1','S2','M1','M2','H1','H2','H3'],['S1','S2','M1','M2','H1','H2','H3','H4'],['S1','S2','M1','M2','H1','H2','H3','H4','H5'],['S1','S2','M1','M2','H1','H2','H3','H4','H5','H6']]\n",
    "state = []\n",
    "network = []\n",
    "prestate = []\n",
    "\n",
    "dana = np.array(data)\n",
    "\n",
    "for dana in range(n_data):\n",
    "    n_hnodes = data+2\n",
    "    for n in range(n_runs):\n",
    "        dec = []\n",
    "        place = 10*data + n\n",
    "        actarr = brain_activity[place][agent][trial]\n",
    "        for j in range(len(brain_activity[place][0][0])): # 2進法 -> 10進法変換 行35,列node数の行列 \n",
    "            num = 0\n",
    "            for k in range(len(brain_activity[place][0][0][0])): # = hnode + 4\n",
    "                num = num + (2 ** k) * actarr[j][k] \n",
    "                num = int(num) # 2進法への変換のためfloat -> int型\n",
    "            dec.append(num)\n",
    "\n",
    "        c = Counter(dec)\n",
    "        prestate.append(counting3(dec))\n",
    "prestate # right?"
   ]
  },
  {
   "cell_type": "code",
   "execution_count": 87,
   "metadata": {},
   "outputs": [],
   "source": [
    "# change num(10) to bin(2) \n",
    "def int2binary(n, node_n): \n",
    "    assert 2**node_n < n, \"Number overflows array capacity 2^node_n\" \n",
    "    return np.array(list(bin(n)[2:].zfill(node_n)), dtype=np.int32)[::-1]"
   ]
  },
  {
   "cell_type": "code",
   "execution_count": 108,
   "metadata": {},
   "outputs": [
    {
     "ename": "NameError",
     "evalue": "name 'cartesian' is not defined",
     "output_type": "error",
     "traceback": [
      "\u001b[0;31m---------------------------------------------------------------\u001b[0m",
      "\u001b[0;31mNameError\u001b[0m                     Traceback (most recent call last)",
      "\u001b[0;32m<ipython-input-108-c5721499f927>\u001b[0m in \u001b[0;36m<module>\u001b[0;34m\u001b[0m\n\u001b[1;32m     26\u001b[0m ) \n\u001b[1;32m     27\u001b[0m \u001b[0;34m\u001b[0m\u001b[0m\n\u001b[0;32m---> 28\u001b[0;31m \u001b[0margs\u001b[0m \u001b[0;34m=\u001b[0m \u001b[0mcartesian\u001b[0m\u001b[0;34m(\u001b[0m\u001b[0;34m(\u001b[0m\u001b[0mnp\u001b[0m\u001b[0;34m.\u001b[0m\u001b[0marange\u001b[0m\u001b[0;34m(\u001b[0m\u001b[0mn_data\u001b[0m\u001b[0;34m)\u001b[0m\u001b[0;34m,\u001b[0m \u001b[0mnp\u001b[0m\u001b[0;34m.\u001b[0m\u001b[0marange\u001b[0m\u001b[0;34m(\u001b[0m\u001b[0mn_runs\u001b[0m\u001b[0;34m)\u001b[0m\u001b[0;34m)\u001b[0m\u001b[0;34m)\u001b[0m\u001b[0;34m\u001b[0m\u001b[0;34m\u001b[0m\u001b[0m\n\u001b[0m\u001b[1;32m     29\u001b[0m \u001b[0;34m\u001b[0m\u001b[0m\n\u001b[1;32m     30\u001b[0m \u001b[0mbrain_activity\u001b[0m \u001b[0;34m=\u001b[0m \u001b[0mget_brain_activity\u001b[0m\u001b[0;34m(\u001b[0m\u001b[0margs\u001b[0m\u001b[0;34m[\u001b[0m\u001b[0;34m:\u001b[0m\u001b[0;34m,\u001b[0m\u001b[0;36m0\u001b[0m\u001b[0;34m]\u001b[0m\u001b[0;34m,\u001b[0m \u001b[0margs\u001b[0m\u001b[0;34m[\u001b[0m\u001b[0;34m:\u001b[0m\u001b[0;34m,\u001b[0m\u001b[0;36m1\u001b[0m\u001b[0;34m]\u001b[0m\u001b[0;34m)\u001b[0m\u001b[0;34m\u001b[0m\u001b[0;34m\u001b[0m\u001b[0m\n",
      "\u001b[0;31mNameError\u001b[0m: name 'cartesian' is not defined"
     ]
    }
   ],
   "source": [
    "genome = [] \n",
    "TPM, TPM_gates, cm = [],[],[] \n",
    "n_connection = np.zeros(n_data*n_runs) \n",
    "brain_activity = [] \n",
    "\n",
    "# Wrapper \n",
    "get_brain_activity = np.frompyfunc( \n",
    "    lambda d,n: agency.getBrainActivity(activities[d][n], n_agents=n_agents, n_nodes=(d+2)+4, n_hidden=(d+2)), \n",
    "    2, 1 \n",
    "    ) \n",
    "\n",
    "get_genome = np.frompyfunc( \n",
    "    lambda d,n: agency.get_genome(genomes[d], n, agent), \n",
    "    2, 1 \n",
    "    ) \n",
    "\n",
    "get_tpm_gates_cm = np.frompyfunc( \n",
    "    lambda d,n: np.array(genome2TPM(genome[5*d+n], \n",
    "    n_nodes=(d+2)+4, \n",
    "    n_sensors=2, \n",
    "    n_motors=2, \n",
    "    gate_type='deterministic', \n",
    "    states_convention='loli', \n",
    "    remove_sensor_motor_effects=True)), \n",
    "    2, 3 \n",
    "    ) \n",
    "\n",
    "args = cartesian((np.arange(n_data), np.arange(n_runs))) \n",
    "\n",
    "brain_activity = get_brain_activity(args[:,0], args[:,1]) \n",
    "genome = get_genome(args[:,0], args[:,1]) \n",
    "TPM, TPM_gates, cm = get_tpm_gates_cm(args[:,0], args[:,1])\n"
   ]
  },
  {
   "cell_type": "code",
   "execution_count": null,
   "metadata": {},
   "outputs": [],
   "source": []
  }
 ],
 "metadata": {
  "kernelspec": {
   "display_name": "Python 3",
   "language": "python",
   "name": "python3"
  },
  "language_info": {
   "codemirror_mode": {
    "name": "ipython",
    "version": 3
   },
   "file_extension": ".py",
   "mimetype": "text/x-python",
   "name": "python",
   "nbconvert_exporter": "python",
   "pygments_lexer": "ipython3",
   "version": "3.6.8"
  }
 },
 "nbformat": 4,
 "nbformat_minor": 2
}
