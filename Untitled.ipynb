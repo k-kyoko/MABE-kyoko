{
 "cells": [
  {
   "cell_type": "code",
   "execution_count": 43,
   "metadata": {},
   "outputs": [],
   "source": [
    "import numpy as np\n",
    "import time\n",
    "from pathlib import Path\n",
    "import pandas as pd\n",
    "import os\n",
    "import copy\n",
    "import pyphi\n",
    "import networkx as nx\n",
    "import matplotlib.pyplot as plt\n",
    "\n",
    "import actual_agency\n"
   ]
  },
  {
   "cell_type": "code",
   "execution_count": 27,
   "metadata": {},
   "outputs": [],
   "source": [
    "class Animat:\n",
    "    def __init__(self, params):\n",
    "        self.n_left_sensors = params['nrOfLeftSensors']\n",
    "        self.n_right_sensors = params['nrOfRightSensors']\n",
    "        self.n_sensors = self.n_right_sensors + self.n_left_sensors\n",
    "        self.n_hidden = params['hiddenNodes']\n",
    "        self.n_motors = 2\n",
    "        self.n_nodes = self.n_left_sensors + self.n_right_sensors + self.n_hidden + self.n_motors\n",
    "        self.gapwidth = params['gapWidth']\n",
    "        self.length = 1 + self.gapwidth + 1\n",
    "        self.x = params['x'] if 'x' in params else 0\n",
    "        self.y = params['y'] if 'y' in params else 0"
   ]
  },
  {
   "cell_type": "code",
   "execution_count": 28,
   "metadata": {},
   "outputs": [],
   "source": [
    "\n",
    "    def set_x(self, position):\n",
    "        self.x = position\n",
    "    def set_y(self, position):\n",
    "        self.y = position"
   ]
  },
  {
   "cell_type": "code",
   "execution_count": 29,
   "metadata": {},
   "outputs": [],
   "source": [
    "def _getBrainActivity(self,data):\n",
    "        world_height = 34\n",
    "        print('Creating activity matrix from MABE output...')\n",
    "        n_trials = int((np.size(data,0))/world_height)\n",
    "        brain_activity = np.zeros((n_trials,1+world_height,self.n_nodes))\n",
    "\n",
    "        for i in list(range(n_trials)):\n",
    "            for j in list(range(world_height+1)):\n",
    "                ix = i*world_height + j\n",
    "                if j==0:\n",
    "                    sensor = np.fromstring(str(data['input_LIST'][ix]), dtype=int, sep=',')[:self.n_sensors]\n",
    "                    hidden = np.zeros(self.n_hidden)\n",
    "                    motor = np.zeros(self.n_motors)\n",
    "                elif j==world_height:\n",
    "                    sensor = np.zeros(self.n_sensors)\n",
    "                    hidden = np.fromstring(data['hidden_LIST'][ix-1], dtype=int, sep=',')\n",
    "                    motor = np.fromstring(data['output_LIST'][ix-1], dtype=int, sep=',')\n",
    "                else:\n",
    "                    sensor = np.fromstring(str(data['input_LIST'][ix]), dtype=int, sep=',')[:self.n_sensors]\n",
    "                    hidden = np.fromstring(data['hidden_LIST'][ix-1], dtype=int, sep=',')\n",
    "                    motor = np.fromstring(data['output_LIST'][ix-1], dtype=int, sep=',')\n",
    "                nodes = np.r_[sensor, motor, hidden]\n",
    "                brain_activity[i,j,:] = nodes\n",
    "        print('Done.')\n",
    "        return brain_activity"
   ]
  },
  {
   "cell_type": "code",
   "execution_count": 30,
   "metadata": {},
   "outputs": [],
   "source": [
    "    def get_transition(self, trial, t, trim=False):\n",
    "        '''Returns transition: state(t-1) --> state(t).'''\n",
    "        if not hasattr(self, 'brain_activity'):\n",
    "            raise AttributeError('No brain activity saved yet.')\n",
    "        if t > self.brain_activity.shape[1]:\n",
    "            raise IndexError('t is beyond number of times in brain activity, no transition here.')\n",
    "        if t == 0:\n",
    "            raise IndexError('t==0, no transition here.')\n",
    "\n",
    "        if trim:\n",
    "            before_state_ixs = [0,1,4,5,6,7] if self.n_nodes==8 else [0,3,4,5,6]\n",
    "            after_state_ixs  = [2,3,4,5,6,7] if self.n_nodes==8 else [1,2,3,4,5,6]\n",
    "            return tuple(self.brain_activity[trial, t-1, before_state_ixs]), tuple(self.brain_activity[trial, t, after_state_ixs])\n",
    "        else:\n",
    "            return tuple(self.brain_activity[trial, t-1]), tuple(self.brain_activity[trial, t])"
   ]
  },
  {
   "cell_type": "code",
   "execution_count": 31,
   "metadata": {},
   "outputs": [],
   "source": [
    "def get_unique_transitions(self, trial=None, trim=True):\n",
    "        if not hasattr(self, 'brain_activity'):\n",
    "            raise AttributeError('No brain activity saved yet.')\n",
    "\n",
    "        n_trials = self.brain_activity.shape[0]\n",
    "        n_times = self.brain_activity.shape[1]\n",
    "\n",
    "        trials = range(n_trials) if trial==None else [trial]\n",
    "\n",
    "        unique_transitions = []\n",
    "        unique_ids = []\n",
    "        for trial in trials:\n",
    "            for t in range(1,n_times):\n",
    "                transition = self.get_transition(trial, t, trim=True)\n",
    "                if transition not in unique_transitions:\n",
    "                    unique_transitions.append(transition)\n",
    "                    unique_ids.append((trial, t))\n",
    "        if not trim:\n",
    "            unique_transitions = [self.get_transition(trial, t, trim=False) for trial,t in unique_ids]\n",
    "        return unique_transitions, unique_ids"
   ]
  },
  {
   "cell_type": "code",
   "execution_count": 32,
   "metadata": {},
   "outputs": [],
   "source": [
    "def saveBrainActivity(self, brain_activity):\n",
    "        if type(brain_activity)==pd.core.frame.DataFrame:\n",
    "            self.brain_activity = self._getBrainActivity(brain_activity)\n",
    "        else: ## array\n",
    "            assert brain_activity.shape[2]==self.n_nodes, \"Brain history does not match number of nodes = {}\".format(self.n_nodes)\n",
    "            self.brain_activity = np.array(brain_activity)"
   ]
  },
  {
   "cell_type": "code",
   "execution_count": 33,
   "metadata": {},
   "outputs": [],
   "source": [
    "    def saveBrain(self, TPM, cm):\n",
    "        if self.n_nodes==8 and self.n_sensors==2:\n",
    "            node_labels = ['S1','S2','M1','M2','A','B','C','D']\n",
    "        elif self.n_nodes==7 and self.n_sensors==1:\n",
    "            node_labels = ['S1','M1','M2','A','B','C','D']\n",
    "        else:\n",
    "            print('Problem saving brain.')\n",
    "\n",
    "        network = pyphi.Network(TPM, cm, node_labels=node_labels)\n",
    "        self.brain = network\n",
    "\n",
    "        G = nx.from_numpy_matrix(cm, create_using=nx.DiGraph())\n",
    "        mapping = {key:x for key,x in zip(range(self.n_nodes),node_labels)}\n",
    "        G = nx.relabel_nodes(G, mapping)\n",
    "        self.brain_graph = G"
   ]
  },
  {
   "cell_type": "code",
   "execution_count": 47,
   "metadata": {},
   "outputs": [],
   "source": [
    "    def getMotorActivity(self, trial):\n",
    "        motor_states = self.brain_activity[trial,:,self.n_sensors:self.n_sensors+2]\n",
    "        motor_activity = []\n",
    "        for state in motor_states:\n",
    "            state = list(state)\n",
    "            if state==[0,0] or state==[1,1]:\n",
    "                motor_activity.append(0)\n",
    "            elif state==[1,0]:\n",
    "                motor_activity.append(1)\n",
    "            else: # state==[0,1]\n",
    "                motor_activity.append(-1)\n",
    "        return motor_activity\n",
    "\n",
    "    def plot_brain(self, state=None, ax=None):\n",
    "        actual_agency.plot_brain(self.brain.cm, self.brain_graph, state, ax)\n"
   ]
  },
  {
   "cell_type": "code",
   "execution_count": 48,
   "metadata": {},
   "outputs": [
    {
     "data": {
      "text/plain": [
       "EdgeDataView([(0, 0, {'weight': 1}), (0, 1, {'weight': 2}), (1, 1, {'weight': 1})])"
      ]
     },
     "execution_count": 48,
     "metadata": {},
     "output_type": "execute_result"
    }
   ],
   "source": [
    "G.edges(data=True)"
   ]
  },
  {
   "cell_type": "code",
   "execution_count": 49,
   "metadata": {},
   "outputs": [
    {
     "ename": "AttributeError",
     "evalue": "module 'actual_agency' has no attribute 'plot_brain'",
     "output_type": "error",
     "traceback": [
      "\u001b[0;31m---------------------------------------------------------------------------\u001b[0m",
      "\u001b[0;31mAttributeError\u001b[0m                            Traceback (most recent call last)",
      "\u001b[0;32m<ipython-input-49-34d0a3560b5f>\u001b[0m in \u001b[0;36m<module>\u001b[0;34m\u001b[0m\n\u001b[0;32m----> 1\u001b[0;31m \u001b[0mplot_brain\u001b[0m\u001b[0;34m(\u001b[0m\u001b[0mG\u001b[0m\u001b[0;34m)\u001b[0m\u001b[0;34m\u001b[0m\u001b[0;34m\u001b[0m\u001b[0m\n\u001b[0m",
      "\u001b[0;32m<ipython-input-47-d045852d2551>\u001b[0m in \u001b[0;36mplot_brain\u001b[0;34m(self, state, ax)\u001b[0m\n\u001b[1;32m     13\u001b[0m \u001b[0;34m\u001b[0m\u001b[0m\n\u001b[1;32m     14\u001b[0m \u001b[0;32mdef\u001b[0m \u001b[0mplot_brain\u001b[0m\u001b[0;34m(\u001b[0m\u001b[0mself\u001b[0m\u001b[0;34m,\u001b[0m \u001b[0mstate\u001b[0m\u001b[0;34m=\u001b[0m\u001b[0;32mNone\u001b[0m\u001b[0;34m,\u001b[0m \u001b[0max\u001b[0m\u001b[0;34m=\u001b[0m\u001b[0;32mNone\u001b[0m\u001b[0;34m)\u001b[0m\u001b[0;34m:\u001b[0m\u001b[0;34m\u001b[0m\u001b[0;34m\u001b[0m\u001b[0m\n\u001b[0;32m---> 15\u001b[0;31m     \u001b[0mactual_agency\u001b[0m\u001b[0;34m.\u001b[0m\u001b[0mplot_brain\u001b[0m\u001b[0;34m(\u001b[0m\u001b[0mself\u001b[0m\u001b[0;34m.\u001b[0m\u001b[0mbrain\u001b[0m\u001b[0;34m.\u001b[0m\u001b[0mcm\u001b[0m\u001b[0;34m,\u001b[0m \u001b[0mself\u001b[0m\u001b[0;34m.\u001b[0m\u001b[0mbrain_graph\u001b[0m\u001b[0;34m,\u001b[0m \u001b[0mstate\u001b[0m\u001b[0;34m,\u001b[0m \u001b[0max\u001b[0m\u001b[0;34m)\u001b[0m\u001b[0;34m\u001b[0m\u001b[0;34m\u001b[0m\u001b[0m\n\u001b[0m",
      "\u001b[0;31mAttributeError\u001b[0m: module 'actual_agency' has no attribute 'plot_brain'"
     ]
    }
   ],
   "source": [
    "plot_brain(G)"
   ]
  },
  {
   "cell_type": "code",
   "execution_count": null,
   "metadata": {},
   "outputs": [],
   "source": []
  }
 ],
 "metadata": {
  "kernelspec": {
   "display_name": "Python 3",
   "language": "python",
   "name": "python3"
  },
  "language_info": {
   "codemirror_mode": {
    "name": "ipython",
    "version": 3
   },
   "file_extension": ".py",
   "mimetype": "text/x-python",
   "name": "python",
   "nbconvert_exporter": "python",
   "pygments_lexer": "ipython3",
   "version": "3.6.8"
  }
 },
 "nbformat": 4,
 "nbformat_minor": 4
}
